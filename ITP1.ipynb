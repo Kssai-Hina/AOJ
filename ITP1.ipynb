{
 "cells": [
  {
   "cell_type": "markdown",
   "metadata": {},
   "source": [
    "# 2-C"
   ]
  },
  {
   "cell_type": "code",
   "execution_count": 7,
   "metadata": {},
   "outputs": [
    {
     "name": "stdin",
     "output_type": "stream",
     "text": [
      " 3 5 2\n"
     ]
    },
    {
     "name": "stdout",
     "output_type": "stream",
     "text": [
      "2\n",
      "3\n",
      "5\n"
     ]
    }
   ],
   "source": [
    "x = list(map(int, input().split()))\n",
    "x.sort()\n",
    "\n",
    "for i in x:\n",
    "    print(i)"
   ]
  },
  {
   "cell_type": "markdown",
   "metadata": {},
   "source": [
    "# 2-D"
   ]
  },
  {
   "cell_type": "code",
   "execution_count": null,
   "metadata": {},
   "outputs": [],
   "source": [
    "W, H, x, y, r = map(int, input().split())\n",
    "\n",
    "W = W - r\n",
    "H = H - r\n",
    "\n",
    "if r <= x and x <= W and r <= y and y <= H:\n",
    "    print(\"Yes\")\n",
    "else:\n",
    "    print(\"No\")"
   ]
  },
  {
   "cell_type": "markdown",
   "metadata": {},
   "source": [
    "# 3-A"
   ]
  },
  {
   "cell_type": "code",
   "execution_count": null,
   "metadata": {},
   "outputs": [],
   "source": [
    "for i in range(0,1000):\n",
    "    print(\"Hello World\")"
   ]
  },
  {
   "cell_type": "markdown",
   "metadata": {},
   "source": [
    "# 3-B"
   ]
  },
  {
   "cell_type": "code",
   "execution_count": 10,
   "metadata": {},
   "outputs": [
    {
     "name": "stdin",
     "output_type": "stream",
     "text": [
      " 2\n"
     ]
    },
    {
     "name": "stdout",
     "output_type": "stream",
     "text": [
      "Case 1: 2\n"
     ]
    },
    {
     "name": "stdin",
     "output_type": "stream",
     "text": [
      " 3\n"
     ]
    },
    {
     "name": "stdout",
     "output_type": "stream",
     "text": [
      "Case 2: 3\n"
     ]
    },
    {
     "name": "stdin",
     "output_type": "stream",
     "text": [
      " 4\n"
     ]
    },
    {
     "name": "stdout",
     "output_type": "stream",
     "text": [
      "Case 3: 4\n"
     ]
    },
    {
     "name": "stdin",
     "output_type": "stream",
     "text": [
      " 1\n"
     ]
    },
    {
     "name": "stdout",
     "output_type": "stream",
     "text": [
      "Case 4: 1\n"
     ]
    },
    {
     "name": "stdin",
     "output_type": "stream",
     "text": [
      " 0\n"
     ]
    }
   ],
   "source": [
    "i = 1\n",
    "while True:\n",
    "    x = int(input())\n",
    "            \n",
    "    if  x != 0:\n",
    "        print(\"Case %d: %d\" % (i, x))\n",
    "        i += 1\n",
    "    else:\n",
    "        break"
   ]
  },
  {
   "cell_type": "markdown",
   "metadata": {},
   "source": [
    "# 3-C"
   ]
  },
  {
   "cell_type": "code",
   "execution_count": 13,
   "metadata": {},
   "outputs": [
    {
     "name": "stdin",
     "output_type": "stream",
     "text": [
      " 6 0\n"
     ]
    },
    {
     "name": "stdout",
     "output_type": "stream",
     "text": [
      "0 6\n"
     ]
    },
    {
     "name": "stdin",
     "output_type": "stream",
     "text": [
      " 0 0\n"
     ]
    }
   ],
   "source": [
    "while True:\n",
    "    x, y = map(int, input().split())\n",
    "    if  not(x == 0 and y == 0):\n",
    "        if x < y:\n",
    "            print(x, y)\n",
    "        else:\n",
    "            print(y, x)\n",
    "    else:\n",
    "        break"
   ]
  },
  {
   "cell_type": "markdown",
   "metadata": {},
   "source": [
    "# 3-D"
   ]
  },
  {
   "cell_type": "code",
   "execution_count": 17,
   "metadata": {},
   "outputs": [
    {
     "name": "stdin",
     "output_type": "stream",
     "text": [
      " 1 12 20\n"
     ]
    },
    {
     "name": "stdout",
     "output_type": "stream",
     "text": [
      "5\n"
     ]
    }
   ],
   "source": [
    "a, b, c = map(int, input().split())\n",
    "count = 0\n",
    "for i in range(a, b+1):\n",
    "    if c % i == 0:\n",
    "        count += 1\n",
    "        \n",
    "print(count)"
   ]
  },
  {
   "cell_type": "markdown",
   "metadata": {},
   "source": [
    "# 4-A"
   ]
  },
  {
   "cell_type": "code",
   "execution_count": 24,
   "metadata": {},
   "outputs": [
    {
     "name": "stdin",
     "output_type": "stream",
     "text": [
      " 2 100000009\n"
     ]
    },
    {
     "name": "stdout",
     "output_type": "stream",
     "text": [
      "0 2 0.0\n"
     ]
    }
   ],
   "source": [
    "a, b = map(int, input().split())\n",
    "\n",
    "d = a // b\n",
    "r = a % b\n",
    "f = a / b\n",
    "\n",
    "print(d, r, round(f,7))"
   ]
  },
  {
   "cell_type": "markdown",
   "metadata": {},
   "source": [
    "# 4-B"
   ]
  },
  {
   "cell_type": "code",
   "execution_count": 28,
   "metadata": {},
   "outputs": [
    {
     "name": "stdin",
     "output_type": "stream",
     "text": [
      " 2\n"
     ]
    },
    {
     "name": "stdout",
     "output_type": "stream",
     "text": [
      "12.5663706 12.5663706\n"
     ]
    }
   ],
   "source": [
    "import math\n",
    "\n",
    "r = float(input())\n",
    "\n",
    "S = r * r * math.pi\n",
    "L = r * 2 * math.pi\n",
    "\n",
    "print(round(S, 7), round(L, 7))"
   ]
  },
  {
   "cell_type": "markdown",
   "metadata": {},
   "source": [
    "# 4-C"
   ]
  },
  {
   "cell_type": "code",
   "execution_count": null,
   "metadata": {},
   "outputs": [],
   "source": [
    "while True:\n",
    "    a, op, b = input().split()\n",
    "    a = int(a)\n",
    "    b = int(b)\n",
    "    if op == \"+\":\n",
    "        print(a + b)\n",
    "    elif op == \"-\":\n",
    "        print(a - b)\n",
    "    elif op == \"*\":\n",
    "        print(a * b)\n",
    "    elif op == \"/\":\n",
    "        print(a // b)\n",
    "    else:\n",
    "        break"
   ]
  },
  {
   "cell_type": "markdown",
   "metadata": {},
   "source": [
    "# 4-D"
   ]
  },
  {
   "cell_type": "code",
   "execution_count": 32,
   "metadata": {},
   "outputs": [
    {
     "name": "stdin",
     "output_type": "stream",
     "text": [
      " 5\n",
      " 1 2 3 4 5\n"
     ]
    },
    {
     "name": "stdout",
     "output_type": "stream",
     "text": [
      "1 5 15\n"
     ]
    }
   ],
   "source": [
    "n = int(input())\n",
    "a = list(map(int, input().split()))\n",
    "\n",
    "max = - 1000000\n",
    "min = 1000000\n",
    "sum = 0\n",
    "\n",
    "for i in a:\n",
    "    if i > max:\n",
    "        max = i\n",
    "    if i < min:\n",
    "        min = i\n",
    "    sum += i\n",
    "print(min, max, sum)"
   ]
  },
  {
   "cell_type": "markdown",
   "metadata": {},
   "source": [
    "# 5-A"
   ]
  },
  {
   "cell_type": "code",
   "execution_count": null,
   "metadata": {},
   "outputs": [
    {
     "name": "stdin",
     "output_type": "stream",
     "text": [
      " 2 3\n"
     ]
    },
    {
     "name": "stdout",
     "output_type": "stream",
     "text": [
      "###\n",
      "###\n"
     ]
    },
    {
     "name": "stdin",
     "output_type": "stream",
     "text": [
      " 3 3\n"
     ]
    },
    {
     "name": "stdout",
     "output_type": "stream",
     "text": [
      "###\n",
      "###\n",
      "###\n"
     ]
    }
   ],
   "source": [
    "while True:\n",
    "    H, W = input().split()\n",
    "    H = int(H)\n",
    "    W = int(W)\n",
    "    if H == 0 and W == 0:\n",
    "        break\n",
    "    \n",
    "    for i in range(0, H):\n",
    "        for i in range(0, W):\n",
    "            print(\"#\", end=\"\")\n",
    "        print(\"\")\n",
    "    print(\"\")"
   ]
  },
  {
   "cell_type": "code",
   "execution_count": 5,
   "metadata": {},
   "outputs": [
    {
     "name": "stdout",
     "output_type": "stream",
     "text": [
      "####\n",
      "####\n",
      "####\n",
      "####\n",
      "####\n"
     ]
    }
   ],
   "source": [
    "for i in range(0,5):\n",
    "    for i in range(0,4):\n",
    "        print(\"#\",end=\"\")\n",
    "    print(\"\")"
   ]
  },
  {
   "cell_type": "markdown",
   "metadata": {},
   "source": [
    "# 5-B"
   ]
  },
  {
   "cell_type": "code",
   "execution_count": 5,
   "metadata": {},
   "outputs": [
    {
     "name": "stdin",
     "output_type": "stream",
     "text": [
      " 3 4\n"
     ]
    },
    {
     "name": "stdout",
     "output_type": "stream",
     "text": [
      "####\n",
      "#  #\n",
      "####\n",
      "\n"
     ]
    },
    {
     "name": "stdin",
     "output_type": "stream",
     "text": [
      " 0 0\n"
     ]
    }
   ],
   "source": [
    "while True:\n",
    "    H, W = input().split()\n",
    "    H = int(H)\n",
    "    W = int(W)\n",
    "    if H == 0 and W == 0:\n",
    "        break\n",
    "    for s in range(0, H):\n",
    "        if s == 0 or s == H - 1:\n",
    "            for t in range(0, W):\n",
    "                print(\"#\", end=\"\")\n",
    "        else:\n",
    "            for t in range(0, W):\n",
    "                if t == 0 or t == W - 1:\n",
    "                    print(\"#\", end=\"\")\n",
    "                else:\n",
    "                    print(\".\", end=\"\")\n",
    "        print(\"\")\n",
    "    print(\"\")"
   ]
  },
  {
   "cell_type": "markdown",
   "metadata": {},
   "source": [
    "# 5-C"
   ]
  },
  {
   "cell_type": "code",
   "execution_count": 8,
   "metadata": {},
   "outputs": [
    {
     "name": "stdin",
     "output_type": "stream",
     "text": [
      " 2 2\n"
     ]
    },
    {
     "name": "stdout",
     "output_type": "stream",
     "text": [
      "#.\n",
      ".#\n",
      "\n"
     ]
    },
    {
     "name": "stdin",
     "output_type": "stream",
     "text": [
      " 3 3\n"
     ]
    },
    {
     "name": "stdout",
     "output_type": "stream",
     "text": [
      "#.#\n",
      ".#.\n",
      "#.#\n",
      "\n"
     ]
    },
    {
     "name": "stdin",
     "output_type": "stream",
     "text": [
      " 0 0\n"
     ]
    }
   ],
   "source": [
    "while True:\n",
    "    H, W = input().split()\n",
    "    H = int(H)\n",
    "    W = int(W)\n",
    "    if H == 0 and W == 0:\n",
    "        break\n",
    "    \n",
    "    for i in range(0, H):\n",
    "        if i % 2 == 0:\n",
    "            ch = 0\n",
    "        else:\n",
    "            ch = 1\n",
    "        for i in range(0, W):\n",
    "            if ch == 0:\n",
    "                print(\"#\", end=\"\")\n",
    "                ch += 1\n",
    "            else:\n",
    "                print(\".\", end=\"\")\n",
    "                ch -= 1\n",
    "        print(\"\")\n",
    "    print(\"\")"
   ]
  },
  {
   "cell_type": "markdown",
   "metadata": {},
   "source": [
    "# 6-A"
   ]
  },
  {
   "cell_type": "code",
   "execution_count": 8,
   "metadata": {},
   "outputs": [
    {
     "name": "stdin",
     "output_type": "stream",
     "text": [
      " 5\n",
      " 1 2 3 4 5\n"
     ]
    },
    {
     "name": "stdout",
     "output_type": "stream",
     "text": [
      "5 4 3 2 1\n"
     ]
    }
   ],
   "source": [
    "n = input()\n",
    "n = int(n)\n",
    "x = list(map(int, input().split()))\n",
    "y = []\n",
    "\n",
    "for i in range(0, n):\n",
    "    y.append(str(x[n-1-i]))\n",
    "    \n",
    "L = \" \".join(y)\n",
    "print(L)"
   ]
  },
  {
   "cell_type": "markdown",
   "metadata": {},
   "source": [
    "# 6-B"
   ]
  },
  {
   "cell_type": "code",
   "execution_count": 9,
   "metadata": {},
   "outputs": [
    {
     "name": "stdin",
     "output_type": "stream",
     "text": [
      " 3\n",
      " S 4\n",
      " D 1\n",
      " C 1\n"
     ]
    },
    {
     "name": "stdout",
     "output_type": "stream",
     "text": [
      "S 1\n",
      "S 2\n",
      "S 3\n",
      "S 5\n",
      "S 6\n",
      "S 7\n",
      "S 8\n",
      "S 9\n",
      "S 10\n",
      "S 11\n",
      "S 12\n",
      "S 13\n",
      "H 1\n",
      "H 2\n",
      "H 3\n",
      "H 4\n",
      "H 5\n",
      "H 6\n",
      "H 7\n",
      "H 8\n",
      "H 9\n",
      "H 10\n",
      "H 11\n",
      "H 12\n",
      "H 13\n",
      "C 2\n",
      "C 3\n",
      "C 4\n",
      "C 5\n",
      "C 6\n",
      "C 7\n",
      "C 8\n",
      "C 9\n",
      "C 10\n",
      "C 11\n",
      "C 12\n",
      "C 13\n",
      "D 2\n",
      "D 3\n",
      "D 4\n",
      "D 5\n",
      "D 6\n",
      "D 7\n",
      "D 8\n",
      "D 9\n",
      "D 10\n",
      "D 11\n",
      "D 12\n",
      "D 13\n"
     ]
    }
   ],
   "source": [
    "n = input()\n",
    "n = int(n)\n",
    "exist = []\n",
    "\n",
    "for i in range(0,n):\n",
    "    suit, number = input().split()\n",
    "    exist.append((suit, number))\n",
    "    \n",
    "for j in range(1, 14):\n",
    "    if (\"S\", str(j)) not in exist:\n",
    "        print(\"S\", str(j))\n",
    "                \n",
    "for j in range(1, 14):\n",
    "    if (\"H\", str(j)) not in exist:\n",
    "        print(\"H\", str(j))\n",
    "        \n",
    "for j in range(1, 14):\n",
    "    if (\"C\", str(j)) not in exist:\n",
    "        print(\"C\", str(j))\n",
    "\n",
    "for j in range(1, 14):\n",
    "    if (\"D\", str(j)) not in exist:\n",
    "        print(\"D\", str(j))\n"
   ]
  },
  {
   "cell_type": "markdown",
   "metadata": {},
   "source": [
    "# 6-C"
   ]
  },
  {
   "cell_type": "code",
   "execution_count": 15,
   "metadata": {},
   "outputs": [
    {
     "name": "stdin",
     "output_type": "stream",
     "text": [
      " 3\n",
      " 2 1 1 6\n",
      " 4 1 2 2\n",
      " 2 1 4 2\n"
     ]
    },
    {
     "name": "stdout",
     "output_type": "stream",
     "text": [
      " \n",
      "0 0 0 0 0 0 0 0 0 0\n",
      " \n",
      "0 0 0 0 0 0 0 0 0 0\n",
      " \n",
      "0 0 0 0 0 0 0 0 0 0\n",
      "####################\n",
      " \n",
      "6 0 0 2 0 0 0 0 0 0\n",
      " \n",
      "0 0 0 0 0 0 0 0 0 0\n",
      " \n",
      "0 0 0 0 0 0 0 0 0 0\n",
      "####################\n",
      " \n",
      "0 0 0 0 0 0 0 0 0 0\n",
      " \n",
      "0 0 0 0 0 0 0 0 0 0\n",
      " \n",
      "0 0 0 0 0 0 0 0 0 0\n",
      "####################\n",
      " \n",
      "0 2 0 0 0 0 0 0 0 0\n",
      " \n",
      "0 0 0 0 0 0 0 0 0 0\n",
      " \n",
      "0 0 0 0 0 0 0 0 0 0\n"
     ]
    }
   ],
   "source": [
    "Building_list = [\n",
    "    [\n",
    "        [0, 0, 0, 0, 0, 0, 0, 0, 0, 0],\n",
    "        [0, 0, 0, 0, 0, 0, 0, 0, 0, 0],\n",
    "        [0, 0, 0, 0, 0, 0, 0, 0, 0, 0]\n",
    "    ],\n",
    "    [\n",
    "        [0, 0, 0, 0, 0, 0, 0, 0, 0, 0],\n",
    "        [0, 0, 0, 0, 0, 0, 0, 0, 0, 0],\n",
    "        [0, 0, 0, 0, 0, 0, 0, 0, 0, 0]\n",
    "    ],\n",
    "    [\n",
    "        [0, 0, 0, 0, 0, 0, 0, 0, 0, 0],\n",
    "        [0, 0, 0, 0, 0, 0, 0, 0, 0, 0],\n",
    "        [0, 0, 0, 0, 0, 0, 0, 0, 0, 0]\n",
    "    ],\n",
    "    [\n",
    "        [0, 0, 0, 0, 0, 0, 0, 0, 0, 0],\n",
    "        [0, 0, 0, 0, 0, 0, 0, 0, 0, 0],\n",
    "        [0, 0, 0, 0, 0, 0, 0, 0, 0, 0]\n",
    "    ],\n",
    "]\n",
    "\n",
    "n = input()\n",
    "n = int(n)\n",
    "\n",
    "for i in range(0, n):\n",
    "    b, f, r, v = input().split()\n",
    "    b = int(b)\n",
    "    f = int(f)\n",
    "    r = int(r)\n",
    "    v = int(v)\n",
    "    \n",
    "    Building_list[b-1][f-1][r-1] += v\n",
    "    \n",
    "for b in range(0, 4):\n",
    "    for f in range(0, 3):\n",
    "        print(\" \",end=\"\")\n",
    "        L = \" \".join([str(n) for n in Building_list[b][f]])\n",
    "        print(L)\n",
    "    if not b == 3:\n",
    "        print(\"#\"*20)"
   ]
  },
  {
   "cell_type": "markdown",
   "metadata": {},
   "source": [
    "# 6-D"
   ]
  },
  {
   "cell_type": "code",
   "execution_count": null,
   "metadata": {},
   "outputs": [],
   "source": [
    "n, m = input().split()\n",
    "n = int(n)\n",
    "m = int(m)\n",
    "\n",
    "A = []\n",
    "b = []\n",
    "for i in range(0,n):\n",
    "    l = list(map(int, input().split()))\n",
    "    A.append(l)\n",
    "for i in range(0, m):\n",
    "    x = input()\n",
    "    b.append(int(x))\n",
    "    \n",
    "for i in range(0, n):\n",
    "    x = 0\n",
    "    for s in range(0, m):\n",
    "        x += A[i][s] * b[s]\n",
    "    print(x)"
   ]
  },
  {
   "cell_type": "markdown",
   "metadata": {},
   "source": [
    "# 7-A"
   ]
  },
  {
   "cell_type": "code",
   "execution_count": null,
   "metadata": {},
   "outputs": [],
   "source": [
    "l = []\n",
    "while True:\n",
    "    m, f, r = input().split()\n",
    "    m = int(m)\n",
    "    f = int(f)\n",
    "    r = int(r)\n",
    "    if m == -1 and f == -1 and r == -1:\n",
    "        break\n",
    "    s = m + f\n",
    "    \n",
    "    if s < 30 or m == -1 or f == -1:\n",
    "        l.append(\"F\")\n",
    "    elif 30 <= s and s < 50:\n",
    "        if 50 <= r:\n",
    "            l.append(\"C\")\n",
    "        else:\n",
    "            l.append(\"D\")\n",
    "    elif 50 <= s and s < 65:\n",
    "        l.append(\"C\")\n",
    "    elif 65 <= s and s < 80:\n",
    "        l.append(\"B\")\n",
    "    elif 80 <= s:\n",
    "        l.append(\"A\")\n",
    "        \n",
    "for i in l:\n",
    "    print(i)"
   ]
  },
  {
   "cell_type": "markdown",
   "metadata": {},
   "source": [
    "# 7-B"
   ]
  },
  {
   "cell_type": "code",
   "execution_count": 16,
   "metadata": {},
   "outputs": [
    {
     "name": "stdin",
     "output_type": "stream",
     "text": [
      " 1 2\n"
     ]
    }
   ],
   "source": [
    "n, x = input().split()\n",
    "n = int(n)\n",
    "x = int(x)\n",
    "\n",
    "for i "
   ]
  }
 ],
 "metadata": {
  "kernelspec": {
   "display_name": "Python 3",
   "language": "python",
   "name": "python3"
  },
  "language_info": {
   "codemirror_mode": {
    "name": "ipython",
    "version": 3
   },
   "file_extension": ".py",
   "mimetype": "text/x-python",
   "name": "python",
   "nbconvert_exporter": "python",
   "pygments_lexer": "ipython3",
   "version": "3.7.4"
  }
 },
 "nbformat": 4,
 "nbformat_minor": 4
}
